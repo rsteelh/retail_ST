{
 "cells": [
  {
   "cell_type": "markdown",
   "id": "d5f6699e",
   "metadata": {
    "papermill": {
     "duration": 0.018262,
     "end_time": "2022-12-25T18:21:13.031571",
     "exception": false,
     "start_time": "2022-12-25T18:21:13.013309",
     "status": "completed"
    },
    "tags": []
   },
   "source": [
    "### Objetivos del notebook\n",
    "---\n",
    "En el presente notebook vamos a aprender a utilizar el algoritmo de XGBoost para trabajar con Series Temporales.\n",
    "\n",
    "[XGBoost](https://xgboost.readthedocs.io/en/stable/) es una implementación muy popular del [Gradient Boosting](https://interactivechaos.com/es/manual/tutorial-de-machine-learning/gradient-boosting) y se ha convertido **\"de facto\"** en el benchmark a batir para datos tabulares.\n",
    "\n",
    "A pesar de tener sus carencias para problemas de Series Temporales (por ejemplo: no es capaz de extrapolar una tendencia), el algoritmo es muy versátil y todo Data Scientist debe conocerlo. \n",
    "\n",
    "El dataset con el que vamos a trabajar en este notebook contiene un total de **426 Series Temporales** que abarcan el periodo Enero'2013 - Septiembre'2015. Por tanto vamos a trabajar con **Series Temporales Multivariante**.\n",
    "\n",
    "Cada una de estas **Series Temporales** representan las ventas <u>**MENSUALES**</u> de **un artículo en un tienda y ciudad**. El objetivo es predecir las <u>**VENTAS TOTALES DEL MES DE OCTUBRE'2015**</u>.\n",
    "\n",
    "Al final del notebook, el alumno debe estar familiarizado con:\n",
    "\n",
    "1. **La importancia de establecer un benchmark (CORE IDEA)** cuando empezamos a trabajar en un problema de Machine Learning. <br>\n",
    "2. Saber utilizar **pandas de forma eficiente para manipular el dataset (resample de pandas, groupby etc).** <br>\n",
    "3. **Combinar la información de diferentes Series Temporales para generar variables (ventas totales de un artículo, ventas totales de todos los artículos en una tienda) con las que alimentar nuestro modelo XGBoost (CORE IDEA).**<br>\n",
    "4. **Saber identificar las variables autoexplicativas (COREA IDEA)** y sus principales causas.<br>\n",
    "5. Comprender **la importancia de iterar rápido (realizar muchos experimentos) (CORE IDEA)** para testear diferentes hipótesis y variables que se construyen.\n",
    "\n",
    "---\n",
    "\n",
    "El presente notebook contiene muchas funcionalidades avanzadas que puede requerir varias lecturas para su comprensión.\n",
    "Pensamos que las secciones marcadas con **CORE IDEA** son las que mayor beneficio le reportarán al alumno. Por este motivo, le animamos a que dedique especial atención a estas ideas.\n",
    "\n",
    "Al final del notebook, hay un sección de referencias y lecturas recomendables para que el alumno pueda seguir profundizando en estos conceptos.\n",
    "\n",
    "---"
   ]
  },
  {
   "cell_type": "markdown",
   "id": "5ee805a5",
   "metadata": {
    "papermill": {
     "duration": 0.016343,
     "end_time": "2022-12-25T18:21:13.064692",
     "exception": false,
     "start_time": "2022-12-25T18:21:13.048349",
     "status": "completed"
    },
    "tags": []
   },
   "source": [
    "<a id='index'></a>\n",
    "### Índice\n",
    "\n",
    "[Imports del notebook](#imports_notebook)<br>\n",
    "[Data Loading](#data_load)<br>\n",
    "[La idea del Benchmark (**CORE IDEA**)](#benchmark)<br>\n",
    "[Data Imputation](#impute)<br>\n",
    "[EDA](#eda)<br>\n",
    "[--> 1. EDA: Global Sales](#eda_global_sales)<br>\n",
    "[--> 2. EDA: Top 3 Cities](#eda_top_3_cities)<br>\n",
    "[--> 3. EDA: Top 3 Categories](#eda_top_3_categories)<br>\n",
    "[Build Time Series Features (**CORE IDEA**)](#build_ts_features)<br>\n",
    "[Join TS Features](#join_ts_features)<br>\n",
    "[Train Test Split](#train_test_split)<br>\n",
    "[Model Train](#model_train)<br>\n",
    "[Model Evaluation (**COREA IDEA**)](#model_evaluation)<br>\n",
    "[Prediction](#prediction)<br>\n",
    "\n",
    "### Conclusión\n",
    "[Conclusión](#conclusion)<br>\n",
    "\n",
    "### Referencias\n",
    "[Referencias y lecturas recomendables](#referencias)<br>"
   ]
  },
  {
   "cell_type": "markdown",
   "id": "bbf4dee1",
   "metadata": {
    "papermill": {
     "duration": 0.016159,
     "end_time": "2022-12-25T18:21:13.097766",
     "exception": false,
     "start_time": "2022-12-25T18:21:13.081607",
     "status": "completed"
    },
    "tags": []
   },
   "source": [
    "<a id='imports_notebook'></a>\n",
    "### Imports del notebook\n",
    "[Volver al índice](#index)\n",
    "\n",
    "En este apartado hacemos los principales imports del notebook.<br>\n",
    "Sobre todo vamos a trabajar con **numpy**, **pandas**, **statsmodels** y **XGBoost**."
   ]
  },
  {
   "cell_type": "code",
   "execution_count": 1,
   "id": "4e242cfb",
   "metadata": {},
   "outputs": [
    {
     "name": "stderr",
     "output_type": "stream",
     "text": [
      "c:\\Users\\rstee\\AppData\\Local\\Programs\\Python\\Python312\\Lib\\site-packages\\xgboost\\compat.py:31: FutureWarning: pandas.Int64Index is deprecated and will be removed from pandas in a future version. Use pandas.Index with the appropriate dtype instead.\n",
      "  from pandas import MultiIndex, Int64Index\n"
     ]
    }
   ],
   "source": [
    "import os\n",
    "\n",
    "import pandas as pd\n",
    "import xgboost as xgb"
   ]
  },
  {
   "cell_type": "code",
   "execution_count": 2,
   "id": "722bdbf8",
   "metadata": {},
   "outputs": [
    {
     "name": "stdout",
     "output_type": "stream",
     "text": [
      "pandas version: 1.5.1\n",
      "xgboost version: 1.3.3\n"
     ]
    }
   ],
   "source": [
    "print(f\"pandas version: {pd.__version__}\")\n",
    "print(f\"xgboost version: {xgb.__version__}\")"
   ]
  },
  {
   "cell_type": "code",
   "execution_count": 3,
   "id": "63c67172",
   "metadata": {},
   "outputs": [],
   "source": [
    "if pd.__version__ != \"1.5.1\":\n",
    "    os.system(\"pip install pandas==1.5.1\")"
   ]
  },
  {
   "cell_type": "code",
   "execution_count": 4,
   "id": "73ddd751",
   "metadata": {},
   "outputs": [],
   "source": [
    "if xgb.__version__ != \"1.3.3\":\n",
    "    os.system(\"pip install xgboost==1.3.3\")"
   ]
  },
  {
   "cell_type": "code",
   "execution_count": 5,
   "id": "707e81f5",
   "metadata": {
    "execution": {
     "iopub.execute_input": "2022-12-25T18:21:13.133191Z",
     "iopub.status.busy": "2022-12-25T18:21:13.132402Z",
     "iopub.status.idle": "2022-12-25T18:21:14.327960Z",
     "shell.execute_reply": "2022-12-25T18:21:14.326955Z"
    },
    "papermill": {
     "duration": 1.216477,
     "end_time": "2022-12-25T18:21:14.330740",
     "exception": false,
     "start_time": "2022-12-25T18:21:13.114263",
     "status": "completed"
    },
    "tags": []
   },
   "outputs": [],
   "source": [
    "import pickle\n",
    "import os\n",
    "\n",
    "from datetime import datetime\n",
    "import pandas as pd\n",
    "import numpy as np\n",
    "\n",
    "import matplotlib.pyplot as plt\n",
    "%matplotlib inline\n",
    "\n",
    "from sklearn.metrics import mean_squared_error\n",
    "from sklearn.preprocessing import OrdinalEncoder\n",
    "\n",
    "import xgboost as xgb\n",
    "\n",
    "from statsmodels.graphics.tsaplots import plot_acf, plot_pacf"
   ]
  },
  {
   "cell_type": "code",
   "execution_count": 6,
   "id": "7a8730e3",
   "metadata": {},
   "outputs": [],
   "source": [
    "# from google.colab import drive\n",
    "# drive.mount('/content/drive')"
   ]
  },
  {
   "cell_type": "code",
   "execution_count": 7,
   "id": "9b14e281",
   "metadata": {},
   "outputs": [],
   "source": [
    "# ! pip install xgboost==1.3.3"
   ]
  },
  {
   "cell_type": "code",
   "execution_count": 8,
   "id": "3a1b2c41",
   "metadata": {},
   "outputs": [],
   "source": [
    "if xgb.__version__ != \"1.3.3\":\n",
    "    os.system(\"pip install xgboost==1.3.3\")"
   ]
  },
  {
   "cell_type": "code",
   "execution_count": 9,
   "id": "97219cf7",
   "metadata": {
    "execution": {
     "iopub.execute_input": "2022-12-25T18:21:14.369241Z",
     "iopub.status.busy": "2022-12-25T18:21:14.368501Z",
     "iopub.status.idle": "2022-12-25T18:21:14.374207Z",
     "shell.execute_reply": "2022-12-25T18:21:14.373416Z"
    },
    "papermill": {
     "duration": 0.026616,
     "end_time": "2022-12-25T18:21:14.377081",
     "exception": false,
     "start_time": "2022-12-25T18:21:14.350465",
     "status": "completed"
    },
    "tags": []
   },
   "outputs": [
    {
     "name": "stdout",
     "output_type": "stream",
     "text": [
      "Working with these versions of libraries\n",
      "\n",
      "--------------------------------------------------\n",
      "Numpy version 1.26.3\n",
      "Pandas version 1.5.1\n",
      "XGBoost version 1.3.3\n"
     ]
    }
   ],
   "source": [
    "print(\"Working with these versions of libraries\\n\")\n",
    "print(\"-\"*50)\n",
    "print(f\"Numpy version {np.__version__}\")\n",
    "print(f\"Pandas version {pd.__version__}\")\n",
    "print(f\"XGBoost version {xgb.__version__}\")"
   ]
  },
  {
   "cell_type": "code",
   "execution_count": 10,
   "id": "a250f195",
   "metadata": {
    "execution": {
     "iopub.execute_input": "2022-12-25T18:21:14.412091Z",
     "iopub.status.busy": "2022-12-25T18:21:14.411655Z",
     "iopub.status.idle": "2022-12-25T18:21:14.417921Z",
     "shell.execute_reply": "2022-12-25T18:21:14.416743Z"
    },
    "papermill": {
     "duration": 0.026513,
     "end_time": "2022-12-25T18:21:14.420213",
     "exception": false,
     "start_time": "2022-12-25T18:21:14.393700",
     "status": "completed"
    },
    "tags": []
   },
   "outputs": [],
   "source": [
    "CWD = os.getcwd()\n",
    "DATA_PATH = os.path.join(CWD, \"data\")\n",
    "\n",
    "# DATA_PATH = \"\"\n",
    "\n",
    "FILE_NAME = \"ts_kaggle_train.csv\"\n",
    "TRAIN_CSV_PATH = os.path.join(DATA_PATH, FILE_NAME)"
   ]
  },
  {
   "cell_type": "markdown",
   "id": "30253d6d",
   "metadata": {
    "papermill": {
     "duration": 0.016465,
     "end_time": "2022-12-25T18:21:14.571678",
     "exception": false,
     "start_time": "2022-12-25T18:21:14.555213",
     "status": "completed"
    },
    "tags": []
   },
   "source": [
    "<a id='data_load'></a>\n",
    "### Data Loading\n",
    "[Volver al índice](#index)\n",
    "\n",
    "Vamos a cargar nuestro dataset para comenzar con el EDA."
   ]
  },
  {
   "cell_type": "code",
   "execution_count": 11,
   "id": "fd354680",
   "metadata": {
    "execution": {
     "iopub.execute_input": "2022-12-25T18:21:14.607033Z",
     "iopub.status.busy": "2022-12-25T18:21:14.606316Z",
     "iopub.status.idle": "2022-12-25T18:21:15.109913Z",
     "shell.execute_reply": "2022-12-25T18:21:15.108842Z"
    },
    "papermill": {
     "duration": 0.524399,
     "end_time": "2022-12-25T18:21:15.112681",
     "exception": false,
     "start_time": "2022-12-25T18:21:14.588282",
     "status": "completed"
    },
    "tags": []
   },
   "outputs": [
    {
     "data": {
      "text/html": [
       "<div>\n",
       "<style scoped>\n",
       "    .dataframe tbody tr th:only-of-type {\n",
       "        vertical-align: middle;\n",
       "    }\n",
       "\n",
       "    .dataframe tbody tr th {\n",
       "        vertical-align: top;\n",
       "    }\n",
       "\n",
       "    .dataframe thead th {\n",
       "        text-align: right;\n",
       "    }\n",
       "</style>\n",
       "<table border=\"1\" class=\"dataframe\">\n",
       "  <thead>\n",
       "    <tr style=\"text-align: right;\">\n",
       "      <th></th>\n",
       "      <th>date</th>\n",
       "      <th>unique_id</th>\n",
       "      <th>city_id</th>\n",
       "      <th>shop_id</th>\n",
       "      <th>item_category_id</th>\n",
       "      <th>item_id</th>\n",
       "      <th>monthly_average_price</th>\n",
       "      <th>monthly_sales</th>\n",
       "    </tr>\n",
       "  </thead>\n",
       "  <tbody>\n",
       "    <tr>\n",
       "      <th>0</th>\n",
       "      <td>2013-01-31</td>\n",
       "      <td>12_11365</td>\n",
       "      <td>16</td>\n",
       "      <td>12</td>\n",
       "      <td>9</td>\n",
       "      <td>11365</td>\n",
       "      <td>1511.512626</td>\n",
       "      <td>30.0</td>\n",
       "    </tr>\n",
       "    <tr>\n",
       "      <th>1</th>\n",
       "      <td>2013-01-31</td>\n",
       "      <td>12_11369</td>\n",
       "      <td>16</td>\n",
       "      <td>12</td>\n",
       "      <td>9</td>\n",
       "      <td>11369</td>\n",
       "      <td>572.715278</td>\n",
       "      <td>30.0</td>\n",
       "    </tr>\n",
       "    <tr>\n",
       "      <th>2</th>\n",
       "      <td>2013-01-31</td>\n",
       "      <td>12_11370</td>\n",
       "      <td>16</td>\n",
       "      <td>12</td>\n",
       "      <td>9</td>\n",
       "      <td>11370</td>\n",
       "      <td>699.776786</td>\n",
       "      <td>30.0</td>\n",
       "    </tr>\n",
       "    <tr>\n",
       "      <th>3</th>\n",
       "      <td>2013-01-31</td>\n",
       "      <td>12_11373</td>\n",
       "      <td>16</td>\n",
       "      <td>12</td>\n",
       "      <td>9</td>\n",
       "      <td>11373</td>\n",
       "      <td>548.900000</td>\n",
       "      <td>6.0</td>\n",
       "    </tr>\n",
       "    <tr>\n",
       "      <th>4</th>\n",
       "      <td>2013-01-31</td>\n",
       "      <td>12_12231</td>\n",
       "      <td>16</td>\n",
       "      <td>12</td>\n",
       "      <td>49</td>\n",
       "      <td>12231</td>\n",
       "      <td>350.000000</td>\n",
       "      <td>3.0</td>\n",
       "    </tr>\n",
       "  </tbody>\n",
       "</table>\n",
       "</div>"
      ],
      "text/plain": [
       "         date unique_id  city_id  shop_id  item_category_id  item_id  \\\n",
       "0  2013-01-31  12_11365       16       12                 9    11365   \n",
       "1  2013-01-31  12_11369       16       12                 9    11369   \n",
       "2  2013-01-31  12_11370       16       12                 9    11370   \n",
       "3  2013-01-31  12_11373       16       12                 9    11373   \n",
       "4  2013-01-31  12_12231       16       12                49    12231   \n",
       "\n",
       "   monthly_average_price  monthly_sales  \n",
       "0            1511.512626           30.0  \n",
       "1             572.715278           30.0  \n",
       "2             699.776786           30.0  \n",
       "3             548.900000            6.0  \n",
       "4             350.000000            3.0  "
      ]
     },
     "execution_count": 11,
     "metadata": {},
     "output_type": "execute_result"
    }
   ],
   "source": [
    "df = pd.read_csv(TRAIN_CSV_PATH, index_col = 0)\n",
    "df.head(5)"
   ]
  },
  {
   "cell_type": "markdown",
   "id": "6702832f",
   "metadata": {
    "papermill": {
     "duration": 0.016484,
     "end_time": "2022-12-25T18:21:15.146194",
     "exception": false,
     "start_time": "2022-12-25T18:21:15.129710",
     "status": "completed"
    },
    "tags": []
   },
   "source": [
    "Vamos a ver que tipo de datos tenemos en nuestro dataset."
   ]
  },
  {
   "cell_type": "code",
   "execution_count": 12,
   "id": "2a262ea8",
   "metadata": {
    "execution": {
     "iopub.execute_input": "2022-12-25T18:21:15.181696Z",
     "iopub.status.busy": "2022-12-25T18:21:15.181331Z",
     "iopub.status.idle": "2022-12-25T18:21:15.218402Z",
     "shell.execute_reply": "2022-12-25T18:21:15.217195Z"
    },
    "papermill": {
     "duration": 0.057916,
     "end_time": "2022-12-25T18:21:15.221101",
     "exception": false,
     "start_time": "2022-12-25T18:21:15.163185",
     "status": "completed"
    },
    "tags": []
   },
   "outputs": [
    {
     "name": "stdout",
     "output_type": "stream",
     "text": [
      "<class 'pandas.core.frame.DataFrame'>\n",
      "Int64Index: 14484 entries, 0 to 14483\n",
      "Data columns (total 8 columns):\n",
      " #   Column                 Non-Null Count  Dtype  \n",
      "---  ------                 --------------  -----  \n",
      " 0   date                   14484 non-null  object \n",
      " 1   unique_id              14484 non-null  object \n",
      " 2   city_id                14484 non-null  int64  \n",
      " 3   shop_id                14484 non-null  int64  \n",
      " 4   item_category_id       14484 non-null  int64  \n",
      " 5   item_id                14484 non-null  int64  \n",
      " 6   monthly_average_price  13262 non-null  float64\n",
      " 7   monthly_sales          13756 non-null  float64\n",
      "dtypes: float64(2), int64(4), object(2)\n",
      "memory usage: 1018.4+ KB\n"
     ]
    }
   ],
   "source": [
    "df.info()"
   ]
  },
  {
   "cell_type": "code",
   "execution_count": null,
   "id": "ced9d686",
   "metadata": {},
   "outputs": [],
   "source": [
    "df[\"date\"] = pd.to_datetime(df[\"date\"], format = \"%Y-%m-%d\")"
   ]
  },
  {
   "cell_type": "markdown",
   "id": "e47f8dae",
   "metadata": {
    "papermill": {
     "duration": 0.016638,
     "end_time": "2022-12-25T18:21:15.254702",
     "exception": false,
     "start_time": "2022-12-25T18:21:15.238064",
     "status": "completed"
    },
    "tags": []
   },
   "source": [
    "<a id='benchmark'></a>\n",
    "### La idea del Benchmark (CORE IDEA)\n",
    "[Volver al índice](#index)"
   ]
  },
  {
   "cell_type": "markdown",
   "id": "24ffecbf",
   "metadata": {
    "papermill": {
     "duration": 0.016615,
     "end_time": "2022-12-25T18:21:15.288404",
     "exception": false,
     "start_time": "2022-12-25T18:21:15.271789",
     "status": "completed"
    },
    "tags": []
   },
   "source": [
    "En el presente notebook buscamos establecer un benchmark rápido. \n",
    "\n",
    "El motivo fundamental es porque los datasets en la vida real son muy complejos y no tenemos el \"lujo\" de poder analizar todas y cada una de las variables <u>**ANTES DE ENTRENAR NUESTRO PRIMER MODELO.</u>**\n",
    "\n",
    "Establecer un benchmark nos ayuda a entender cual es el punto de partida, es decir: <u>**cual es el score mínimo para este dataset.**</u>\n",
    "\n",
    "Muchas veces este benchmark puede ser un modelo entrenado con unas pocas columnas númericas (imputando los nulos con la media). <u>**No se trata de tener el mejor modelo sino de entrenar nuestro primer modelo.**</u> \n",
    "\n",
    "Una vez sabemos cual es el punto de partida y tenemos un notebook **\"funcional\"** podemos empezar a experimentar con nuestro dataset. Por **\"notebook funcional\"** entendemos un script/notebook que podemos ejecutar en su totalidad (loading del dataset, preprocessing, train_test_split, train y predict). En cada experimento iremos añadiendo nuevas variables, diferentes imputaciones, modelos y vamos guardando el score que obtenemos. De este manera, podemos ver la contribución de cada variables y comprobar si estamos mejorando o no respecto al benchmark.\n",
    "\n",
    "Dado que este notebook es un benchmark, tenemos que **\"acotar\"** muy bien las cosas que vamos a implementar (para no irnos por las ramas).\n",
    "\n",
    "A **grosso modo** vamos a hacer las siguientes cosas:\n",
    "\n",
    "1. Tratar los nulos.\n",
    "1. Realizar un pequeño EDA sobre el dataset.\n",
    "1. Crear algunas variables rápidas para el entrenamiento.\n",
    "1. Entrenar el algoritmo.\n",
    "1. Evaluar el modelo.\n",
    "1. Hacer el submit a Kaggle.\n",
    "\n",
    "Empecemos:"
   ]
  },
  {
   "cell_type": "markdown",
   "id": "f478f852",
   "metadata": {
    "execution": {
     "iopub.execute_input": "2022-12-22T22:32:00.326712Z",
     "iopub.status.busy": "2022-12-22T22:32:00.326289Z",
     "iopub.status.idle": "2022-12-22T22:32:00.341842Z",
     "shell.execute_reply": "2022-12-22T22:32:00.340543Z",
     "shell.execute_reply.started": "2022-12-22T22:32:00.326673Z"
    },
    "papermill": {
     "duration": 0.016523,
     "end_time": "2022-12-25T18:21:15.321776",
     "exception": false,
     "start_time": "2022-12-25T18:21:15.305253",
     "status": "completed"
    },
    "tags": []
   },
   "source": [
    "Tenemos un total de 426 Series Temporales en el dataset:"
   ]
  },
  {
   "cell_type": "code",
   "execution_count": null,
   "id": "64638d2b",
   "metadata": {
    "execution": {
     "iopub.execute_input": "2022-12-25T18:21:15.357311Z",
     "iopub.status.busy": "2022-12-25T18:21:15.356920Z",
     "iopub.status.idle": "2022-12-25T18:21:15.369865Z",
     "shell.execute_reply": "2022-12-25T18:21:15.369027Z"
    },
    "papermill": {
     "duration": 0.033397,
     "end_time": "2022-12-25T18:21:15.372007",
     "exception": false,
     "start_time": "2022-12-25T18:21:15.338610",
     "status": "completed"
    },
    "tags": []
   },
   "outputs": [],
   "source": [
    "df[\"unique_id\"].nunique()"
   ]
  },
  {
   "cell_type": "markdown",
   "id": "8b4608a8",
   "metadata": {
    "papermill": {
     "duration": 0.016732,
     "end_time": "2022-12-25T18:21:15.405908",
     "exception": false,
     "start_time": "2022-12-25T18:21:15.389176",
     "status": "completed"
    },
    "tags": []
   },
   "source": [
    "Veamos cuales son las fechas min y max de nuestro dataset:"
   ]
  },
  {
   "cell_type": "code",
   "execution_count": null,
   "id": "41e5fa23",
   "metadata": {
    "execution": {
     "iopub.execute_input": "2022-12-25T18:21:15.446890Z",
     "iopub.status.busy": "2022-12-25T18:21:15.446139Z",
     "iopub.status.idle": "2022-12-25T18:21:15.452067Z",
     "shell.execute_reply": "2022-12-25T18:21:15.451154Z"
    },
    "papermill": {
     "duration": 0.029077,
     "end_time": "2022-12-25T18:21:15.454358",
     "exception": false,
     "start_time": "2022-12-25T18:21:15.425281",
     "status": "completed"
    },
    "tags": []
   },
   "outputs": [],
   "source": [
    "MIN_DATE = df[\"date\"].min()\n",
    "MAX_DATE = df[\"date\"].max()"
   ]
  },
  {
   "cell_type": "code",
   "execution_count": null,
   "id": "300bd8a9",
   "metadata": {
    "execution": {
     "iopub.execute_input": "2022-12-25T18:21:15.504473Z",
     "iopub.status.busy": "2022-12-25T18:21:15.503672Z",
     "iopub.status.idle": "2022-12-25T18:21:15.511147Z",
     "shell.execute_reply": "2022-12-25T18:21:15.509356Z"
    },
    "papermill": {
     "duration": 0.03653,
     "end_time": "2022-12-25T18:21:15.513883",
     "exception": false,
     "start_time": "2022-12-25T18:21:15.477353",
     "status": "completed"
    },
    "tags": []
   },
   "outputs": [],
   "source": [
    "print(f\"Min date is {MIN_DATE}\\nMax date is {MAX_DATE}\")"
   ]
  },
  {
   "cell_type": "code",
   "execution_count": null,
   "id": "7ef736c5",
   "metadata": {},
   "outputs": [],
   "source": [
    "df.isnull().sum()"
   ]
  },
  {
   "cell_type": "markdown",
   "id": "047e0ab1",
   "metadata": {
    "papermill": {
     "duration": 0.02233,
     "end_time": "2022-12-25T18:21:22.049371",
     "exception": false,
     "start_time": "2022-12-25T18:21:22.027041",
     "status": "completed"
    },
    "tags": []
   },
   "source": [
    "<a id='impute'></a>\n",
    "### Data Imputation\n",
    "[Volver al índice](#index)<br>"
   ]
  },
  {
   "cell_type": "code",
   "execution_count": null,
   "id": "58857c4c",
   "metadata": {},
   "outputs": [],
   "source": [
    "sample_ts = \"31_4249\""
   ]
  },
  {
   "cell_type": "code",
   "execution_count": null,
   "id": "a84fc5e1",
   "metadata": {},
   "outputs": [],
   "source": [
    "df[df[\"unique_id\"] == sample_ts]"
   ]
  },
  {
   "cell_type": "code",
   "execution_count": null,
   "id": "584b0383",
   "metadata": {
    "execution": {
     "iopub.execute_input": "2022-12-25T18:21:22.210198Z",
     "iopub.status.busy": "2022-12-25T18:21:22.209194Z",
     "iopub.status.idle": "2022-12-25T18:21:22.216573Z",
     "shell.execute_reply": "2022-12-25T18:21:22.215687Z"
    },
    "papermill": {
     "duration": 0.032436,
     "end_time": "2022-12-25T18:21:22.218832",
     "exception": false,
     "start_time": "2022-12-25T18:21:22.186396",
     "status": "completed"
    },
    "tags": []
   },
   "outputs": [],
   "source": [
    "df[\"monthly_sales\"].fillna(0, inplace = True)"
   ]
  },
  {
   "cell_type": "code",
   "execution_count": null,
   "id": "9145d3e8",
   "metadata": {
    "execution": {
     "iopub.execute_input": "2022-12-25T18:21:22.327926Z",
     "iopub.status.busy": "2022-12-25T18:21:22.327075Z",
     "iopub.status.idle": "2022-12-25T18:21:22.417466Z",
     "shell.execute_reply": "2022-12-25T18:21:22.416411Z"
    },
    "papermill": {
     "duration": 0.116065,
     "end_time": "2022-12-25T18:21:22.420249",
     "exception": false,
     "start_time": "2022-12-25T18:21:22.304184",
     "status": "completed"
    },
    "tags": []
   },
   "outputs": [],
   "source": [
    "df[\"monthly_average_price\"] = df.groupby(\"unique_id\", group_keys = False)[\"monthly_average_price\"].apply(\n",
    "    lambda series: series.backfill().ffill()\n",
    ")"
   ]
  },
  {
   "cell_type": "code",
   "execution_count": null,
   "id": "e7394811",
   "metadata": {},
   "outputs": [],
   "source": [
    "df.isnull().sum()"
   ]
  },
  {
   "cell_type": "code",
   "execution_count": null,
   "id": "635da804",
   "metadata": {},
   "outputs": [],
   "source": [
    "df.sort_values([\"unique_id\", \"date\"], ascending = True, inplace = True)"
   ]
  },
  {
   "cell_type": "code",
   "execution_count": null,
   "id": "50ee0c2f",
   "metadata": {},
   "outputs": [],
   "source": [
    "df[df[\"unique_id\"] == sample_ts]"
   ]
  },
  {
   "cell_type": "markdown",
   "id": "ed947083",
   "metadata": {
    "papermill": {
     "duration": 0.022323,
     "end_time": "2022-12-25T18:21:22.521653",
     "exception": false,
     "start_time": "2022-12-25T18:21:22.499330",
     "status": "completed"
    },
    "tags": []
   },
   "source": [
    "<a id='eda'></a>\n",
    "### EDA\n",
    "[Volver al índice](#index)<br>"
   ]
  },
  {
   "cell_type": "markdown",
   "id": "f758be61",
   "metadata": {
    "papermill": {
     "duration": 0.022127,
     "end_time": "2022-12-25T18:21:22.566039",
     "exception": false,
     "start_time": "2022-12-25T18:21:22.543912",
     "status": "completed"
    },
    "tags": []
   },
   "source": [
    "Vamos a hacer un EDA rápido para ver como son nuestras Series Temporales y coger algunas ideas para futuras variables que vamos a implementar.\n",
    "\n",
    "Al tratarse este notebook del benchmark, vamos a explorar de manera muy superficial el dataset. En posteriores ejecuciones analizaremos el dataset en más detalle, construiremos nuevas variables y volveremos a entrenar nuestro modelo."
   ]
  },
  {
   "cell_type": "markdown",
   "id": "174a4652",
   "metadata": {
    "papermill": {
     "duration": 0.021998,
     "end_time": "2022-12-25T18:21:22.610614",
     "exception": false,
     "start_time": "2022-12-25T18:21:22.588616",
     "status": "completed"
    },
    "tags": []
   },
   "source": [
    "<a id='eda_global_sales'></a>\n",
    "### --> 1. EDA: Global Sales\n",
    "[Volver al índice](#index)<br>"
   ]
  },
  {
   "cell_type": "code",
   "execution_count": null,
   "id": "1c3e636b",
   "metadata": {
    "execution": {
     "iopub.execute_input": "2022-12-25T18:21:22.656720Z",
     "iopub.status.busy": "2022-12-25T18:21:22.656066Z",
     "iopub.status.idle": "2022-12-25T18:21:22.662079Z",
     "shell.execute_reply": "2022-12-25T18:21:22.661146Z"
    },
    "papermill": {
     "duration": 0.032195,
     "end_time": "2022-12-25T18:21:22.664784",
     "exception": false,
     "start_time": "2022-12-25T18:21:22.632589",
     "status": "completed"
    },
    "tags": []
   },
   "outputs": [],
   "source": [
    "def plot_ts_acf_pacf(y, title):\n",
    "    '''\n",
    "    Plots the ts you pass and the acf and pacf.\n",
    "    '''\n",
    "    fig = plt.figure(figsize = (12, 10))\n",
    "    ax1, ax2, ax3 = fig.subplots(3, 1)\n",
    "\n",
    "    ax1.plot(y)\n",
    "    plot_acf(x = y, ax = ax2, lags = 14)\n",
    "    plot_pacf(x = y, ax = ax3, lags = 14)\n",
    "\n",
    "    plt.suptitle(t = title, fontsize = 20)"
   ]
  },
  {
   "cell_type": "code",
   "execution_count": null,
   "id": "893fadf9",
   "metadata": {
    "execution": {
     "iopub.execute_input": "2022-12-25T18:21:22.712487Z",
     "iopub.status.busy": "2022-12-25T18:21:22.712069Z",
     "iopub.status.idle": "2022-12-25T18:21:22.723617Z",
     "shell.execute_reply": "2022-12-25T18:21:22.722839Z"
    },
    "papermill": {
     "duration": 0.038389,
     "end_time": "2022-12-25T18:21:22.726176",
     "exception": false,
     "start_time": "2022-12-25T18:21:22.687787",
     "status": "completed"
    },
    "tags": []
   },
   "outputs": [],
   "source": [
    "y = df.set_index(\"date\").resample(\"M\")[\"monthly_sales\"].sum()[:-1] # quitamos los registros de octubre"
   ]
  },
  {
   "cell_type": "code",
   "execution_count": null,
   "id": "d92427cf",
   "metadata": {
    "execution": {
     "iopub.execute_input": "2022-12-25T18:21:22.774894Z",
     "iopub.status.busy": "2022-12-25T18:21:22.774238Z",
     "iopub.status.idle": "2022-12-25T18:21:23.383135Z",
     "shell.execute_reply": "2022-12-25T18:21:23.382008Z"
    },
    "papermill": {
     "duration": 0.635484,
     "end_time": "2022-12-25T18:21:23.385591",
     "exception": false,
     "start_time": "2022-12-25T18:21:22.750107",
     "status": "completed"
    },
    "tags": []
   },
   "outputs": [],
   "source": [
    "plot_ts_acf_pacf(y = y, title = \"Monthly Sales for all items in all shops\");"
   ]
  },
  {
   "cell_type": "markdown",
   "id": "aca9a268",
   "metadata": {
    "papermill": {
     "duration": 0.022782,
     "end_time": "2022-12-25T18:21:23.431783",
     "exception": false,
     "start_time": "2022-12-25T18:21:23.409001",
     "status": "completed"
    },
    "tags": []
   },
   "source": [
    "Nota importante: nos estamos ayudando del gráfico de acf y pacf, pero no vamos a entrenar un modelo ARIMA.\n",
    "\n",
    "Para resolver el problema que se nos plantea: más de 400 Series Temporales diferentes tendríamos que entrenar 400 ARIMAs (1 modelo por Serie Temporal). En cambio, con el algoritmo de XGBoost podríamos entrenar 1 único modelo.\n",
    "\n",
    "Ahora bien, al contrario que ARIMA (que internamente construye las variables necesarias), para XGBoost debemos ser explícitos y suministrarle todas y cada una de las variables necesarias.\n",
    "\n",
    "Del gráfico anterior ya podemos observar que las variables de lags pueden ser muy relevantes.\n",
    "\n",
    "IDEA para los alumnos: podéis intentar analizar algunas de las 400 Series Temporales de manera individual para ver su comportamiento."
   ]
  },
  {
   "cell_type": "markdown",
   "id": "15714f34",
   "metadata": {
    "papermill": {
     "duration": 0.023211,
     "end_time": "2022-12-25T18:21:23.477649",
     "exception": false,
     "start_time": "2022-12-25T18:21:23.454438",
     "status": "completed"
    },
    "tags": []
   },
   "source": [
    "<a id='eda_top_3_cities'></a>\n",
    "### --> 2. EDA: Top 3 Cities\n",
    "[Volver al índice](#index)<br>"
   ]
  },
  {
   "cell_type": "code",
   "execution_count": null,
   "id": "6611fd72",
   "metadata": {
    "execution": {
     "iopub.execute_input": "2022-12-25T18:21:23.525896Z",
     "iopub.status.busy": "2022-12-25T18:21:23.524827Z",
     "iopub.status.idle": "2022-12-25T18:21:23.897855Z",
     "shell.execute_reply": "2022-12-25T18:21:23.896617Z"
    },
    "papermill": {
     "duration": 0.399549,
     "end_time": "2022-12-25T18:21:23.900442",
     "exception": false,
     "start_time": "2022-12-25T18:21:23.500893",
     "status": "completed"
    },
    "tags": []
   },
   "outputs": [],
   "source": [
    "(\n",
    "    df.\n",
    "    groupby([\"city_id\"])\n",
    "    [\"monthly_sales\"].sum()\n",
    "    .sort_values(ascending = False)\n",
    "    .plot(kind = \"bar\", figsize = (12, 4))\n",
    ");"
   ]
  },
  {
   "cell_type": "markdown",
   "id": "feacc799",
   "metadata": {
    "papermill": {
     "duration": 0.023796,
     "end_time": "2022-12-25T18:21:23.948538",
     "exception": false,
     "start_time": "2022-12-25T18:21:23.924742",
     "status": "completed"
    },
    "tags": []
   },
   "source": [
    "<a id='eda_top_3_categories'></a>\n",
    "### --> 3. EDA: Top 3 Categories\n",
    "[Volver al índice](#index)<br>"
   ]
  },
  {
   "cell_type": "code",
   "execution_count": null,
   "id": "e7717408",
   "metadata": {
    "execution": {
     "iopub.execute_input": "2022-12-25T18:21:23.998475Z",
     "iopub.status.busy": "2022-12-25T18:21:23.998043Z",
     "iopub.status.idle": "2022-12-25T18:21:24.451295Z",
     "shell.execute_reply": "2022-12-25T18:21:24.449986Z"
    },
    "papermill": {
     "duration": 0.481244,
     "end_time": "2022-12-25T18:21:24.453930",
     "exception": false,
     "start_time": "2022-12-25T18:21:23.972686",
     "status": "completed"
    },
    "tags": []
   },
   "outputs": [],
   "source": [
    "(\n",
    "    df.\n",
    "    groupby([\"item_category_id\"])\n",
    "    [\"monthly_sales\"].sum()\n",
    "    .sort_values(ascending = False)\n",
    "    .plot(kind = \"bar\", figsize = (12, 4))\n",
    ");"
   ]
  },
  {
   "cell_type": "markdown",
   "id": "23cb5f97",
   "metadata": {
    "papermill": {
     "duration": 0.023986,
     "end_time": "2022-12-25T18:21:24.502385",
     "exception": false,
     "start_time": "2022-12-25T18:21:24.478399",
     "status": "completed"
    },
    "tags": []
   },
   "source": [
    "<a id='build_ts_features'></a>\n",
    "### Build Time Series Features (**CORE IDEA**)\n",
    "[Volver al índice](#index)<br>"
   ]
  },
  {
   "cell_type": "markdown",
   "id": "e9caf1f0",
   "metadata": {
    "papermill": {
     "duration": 0.023954,
     "end_time": "2022-12-25T18:21:24.550345",
     "exception": false,
     "start_time": "2022-12-25T18:21:24.526391",
     "status": "completed"
    },
    "tags": []
   },
   "source": [
    "Dado que vamos a tener que iterar muchas veces sobre nuestro dataset, nos interesa tener todo el código encapsulado en funciones para su reutilización.\n",
    "\n",
    "Uno de los apartados clave será la generación de variables.\n",
    "\n",
    "Como hemos visto antes, nuestro dataset contiene más de 400 Series Temporales.\n",
    "\n",
    "Algunas de estas Series Temporales las podemos agrupar para sacar nueva información.\n",
    "\n",
    "Por ejemplo, podemos construir una variables del estilo:\n",
    "\n",
    "1. Las ventas totales por ITEM_ID (la menor granularidad posible).\n",
    "2. Las ventas totales por ITEM_CATEGORY_ID y SHOP_ID (una granularidad mayor a la 1).\n",
    "3. Las ventas totales por SHOP_ID (una granularidad mayor).\n",
    "4. Y todas las combinaciones que queramos intermedias."
   ]
  },
  {
   "cell_type": "code",
   "execution_count": null,
   "id": "61454796",
   "metadata": {
    "execution": {
     "iopub.execute_input": "2022-12-25T18:21:24.671407Z",
     "iopub.status.busy": "2022-12-25T18:21:24.670332Z",
     "iopub.status.idle": "2022-12-25T18:21:24.678730Z",
     "shell.execute_reply": "2022-12-25T18:21:24.677485Z"
    },
    "papermill": {
     "duration": 0.036788,
     "end_time": "2022-12-25T18:21:24.681073",
     "exception": false,
     "start_time": "2022-12-25T18:21:24.644285",
     "status": "completed"
    },
    "tags": []
   },
   "outputs": [],
   "source": [
    "def build_ts_vars(df, gb_list, target_column, agg_func, agg_func_name):\n",
    "    \n",
    "    assert \"date\" in df.columns.tolist(), \"Date must be in df columns\"\n",
    "    \n",
    "    new_name = \"_\".join(gb_list + [target_column] + [agg_func_name])\n",
    "\n",
    "    gb_df_ = (\n",
    "        df\n",
    "        .set_index(\"date\")\n",
    "        .groupby(gb_list)\n",
    "        .resample(\"M\")[target_column]\n",
    "        .apply(agg_func)\n",
    "        .to_frame()\n",
    "        .reset_index()\n",
    "        .rename(\n",
    "            columns = {\n",
    "                target_column : new_name\n",
    "            }\n",
    "        )\n",
    "    )\n",
    "        \n",
    "    gb_df_[f\"{new_name}_lag1\"] = gb_df_.groupby(gb_list)[new_name].transform(\n",
    "        lambda series: series.shift(1)\n",
    "    )\n",
    "    \n",
    "    print(f\"Dropping columns that might cause target leakage {new_name}\")\n",
    "    gb_df_.drop(new_name, inplace = True, axis = 1)\n",
    "    \n",
    "    return gb_df_"
   ]
  },
  {
   "cell_type": "code",
   "execution_count": null,
   "id": "28b7eb06",
   "metadata": {
    "execution": {
     "iopub.execute_input": "2022-12-25T18:21:24.733079Z",
     "iopub.status.busy": "2022-12-25T18:21:24.731651Z",
     "iopub.status.idle": "2022-12-25T18:21:24.908347Z",
     "shell.execute_reply": "2022-12-25T18:21:24.907233Z"
    },
    "papermill": {
     "duration": 0.205108,
     "end_time": "2022-12-25T18:21:24.910893",
     "exception": false,
     "start_time": "2022-12-25T18:21:24.705785",
     "status": "completed"
    },
    "tags": []
   },
   "outputs": [],
   "source": [
    "GB_LIST = [\"item_id\"]\n",
    "TARGET_COLUMN = \"monthly_sales\"\n",
    "AGG_FUNC = np.sum\n",
    "AGG_FUNC_NAME = \"sum\"\n",
    "\n",
    "vars_ts_ = build_ts_vars(\n",
    "    df = df,\n",
    "    gb_list = GB_LIST,\n",
    "    target_column = TARGET_COLUMN,\n",
    "    agg_func = AGG_FUNC,\n",
    "    agg_func_name =  AGG_FUNC_NAME\n",
    "    \n",
    ")\n",
    "\n",
    "vars_ts_.head(10)"
   ]
  },
  {
   "cell_type": "markdown",
   "id": "81ec5de5",
   "metadata": {
    "papermill": {
     "duration": 0.029372,
     "end_time": "2022-12-25T18:21:24.965434",
     "exception": false,
     "start_time": "2022-12-25T18:21:24.936062",
     "status": "completed"
    },
    "tags": []
   },
   "source": [
    "<a id='join_ts_features'></a>\n",
    "### Join TS Features\n",
    "[Volver al índice](#index)<br>"
   ]
  },
  {
   "cell_type": "markdown",
   "id": "165af29c",
   "metadata": {
    "papermill": {
     "duration": 0.02443,
     "end_time": "2022-12-25T18:21:25.014558",
     "exception": false,
     "start_time": "2022-12-25T18:21:24.990128",
     "status": "completed"
    },
    "tags": []
   },
   "source": [
    "En este apartado, hacemos el merge del full_df con las variables auxiliares.\n",
    "\n",
    "Debemos controlar muy bien el merge, para no provocar un cartesiano."
   ]
  },
  {
   "cell_type": "code",
   "execution_count": null,
   "id": "39402209",
   "metadata": {
    "execution": {
     "iopub.execute_input": "2022-12-25T18:21:25.065855Z",
     "iopub.status.busy": "2022-12-25T18:21:25.065444Z",
     "iopub.status.idle": "2022-12-25T18:21:25.085154Z",
     "shell.execute_reply": "2022-12-25T18:21:25.083693Z"
    },
    "papermill": {
     "duration": 0.048568,
     "end_time": "2022-12-25T18:21:25.087892",
     "exception": false,
     "start_time": "2022-12-25T18:21:25.039324",
     "status": "completed"
    },
    "tags": []
   },
   "outputs": [],
   "source": [
    "print(df.shape)\n",
    "\n",
    "df = pd.merge(df, vars_ts_, on = [\"date\"] + GB_LIST, how = \"left\")\n",
    "\n",
    "print(df.shape)"
   ]
  },
  {
   "cell_type": "markdown",
   "id": "bf2c6038",
   "metadata": {
    "papermill": {
     "duration": 0.024236,
     "end_time": "2022-12-25T18:21:25.200977",
     "exception": false,
     "start_time": "2022-12-25T18:21:25.176741",
     "status": "completed"
    },
    "tags": []
   },
   "source": [
    "<a id='train_test_split'></a>\n",
    "### Train Test Split\n",
    "[Volver al índice](#index)<br>"
   ]
  },
  {
   "cell_type": "code",
   "execution_count": null,
   "id": "d78761ec",
   "metadata": {},
   "outputs": [],
   "source": [
    "df.columns.tolist()"
   ]
  },
  {
   "cell_type": "code",
   "execution_count": null,
   "id": "30d6f467",
   "metadata": {
    "execution": {
     "iopub.execute_input": "2022-12-25T18:21:25.317608Z",
     "iopub.status.busy": "2022-12-25T18:21:25.316940Z",
     "iopub.status.idle": "2022-12-25T18:21:25.325200Z",
     "shell.execute_reply": "2022-12-25T18:21:25.324212Z"
    },
    "papermill": {
     "duration": 0.036896,
     "end_time": "2022-12-25T18:21:25.327627",
     "exception": false,
     "start_time": "2022-12-25T18:21:25.290731",
     "status": "completed"
    },
    "tags": []
   },
   "outputs": [],
   "source": [
    "COLUMNS_TO_DROP = [\n",
    "]\n",
    "\n",
    "df.drop(COLUMNS_TO_DROP, inplace = True, axis = 1)"
   ]
  },
  {
   "cell_type": "code",
   "execution_count": null,
   "id": "fa177860",
   "metadata": {
    "execution": {
     "iopub.execute_input": "2022-12-25T18:21:25.381448Z",
     "iopub.status.busy": "2022-12-25T18:21:25.381045Z",
     "iopub.status.idle": "2022-12-25T18:21:25.386859Z",
     "shell.execute_reply": "2022-12-25T18:21:25.385987Z"
    },
    "papermill": {
     "duration": 0.035085,
     "end_time": "2022-12-25T18:21:25.389015",
     "exception": false,
     "start_time": "2022-12-25T18:21:25.353930",
     "status": "completed"
    },
    "tags": []
   },
   "outputs": [],
   "source": [
    "df.set_index(\"unique_id\", inplace = True)"
   ]
  },
  {
   "cell_type": "code",
   "execution_count": null,
   "id": "aabdefba",
   "metadata": {
    "execution": {
     "iopub.execute_input": "2022-12-25T18:21:25.441035Z",
     "iopub.status.busy": "2022-12-25T18:21:25.440313Z",
     "iopub.status.idle": "2022-12-25T18:21:25.456138Z",
     "shell.execute_reply": "2022-12-25T18:21:25.455270Z"
    },
    "papermill": {
     "duration": 0.044121,
     "end_time": "2022-12-25T18:21:25.458207",
     "exception": false,
     "start_time": "2022-12-25T18:21:25.414086",
     "status": "completed"
    },
    "tags": []
   },
   "outputs": [],
   "source": [
    "df.sample(5)"
   ]
  },
  {
   "cell_type": "code",
   "execution_count": null,
   "id": "c00c459e",
   "metadata": {
    "execution": {
     "iopub.execute_input": "2022-12-25T18:21:25.510693Z",
     "iopub.status.busy": "2022-12-25T18:21:25.510042Z",
     "iopub.status.idle": "2022-12-25T18:21:25.516465Z",
     "shell.execute_reply": "2022-12-25T18:21:25.515675Z"
    },
    "papermill": {
     "duration": 0.035161,
     "end_time": "2022-12-25T18:21:25.518612",
     "exception": false,
     "start_time": "2022-12-25T18:21:25.483451",
     "status": "completed"
    },
    "tags": []
   },
   "outputs": [],
   "source": [
    "train_index = sorted(list(df[\"date\"].unique()))[:-2]\n",
    "\n",
    "valida_index = [sorted(list(df[\"date\"].unique()))[-2]]\n",
    "\n",
    "test_index = [sorted(list(df[\"date\"].unique()))[-1]]"
   ]
  },
  {
   "cell_type": "code",
   "execution_count": null,
   "id": "cbe8a09a",
   "metadata": {},
   "outputs": [],
   "source": [
    "print(f\"Our train index is {train_index[:2]} - ... - {train_index[-2:]}\\n\")\n",
    "print(f\"Our validation index is {valida_index}\\n\")\n",
    "print(f\"Our test/prediction index is {test_index}\\n\")"
   ]
  },
  {
   "cell_type": "code",
   "execution_count": null,
   "id": "9e8355d1",
   "metadata": {
    "execution": {
     "iopub.execute_input": "2022-12-25T18:21:25.571236Z",
     "iopub.status.busy": "2022-12-25T18:21:25.570525Z",
     "iopub.status.idle": "2022-12-25T18:21:25.587609Z",
     "shell.execute_reply": "2022-12-25T18:21:25.586409Z"
    },
    "papermill": {
     "duration": 0.046374,
     "end_time": "2022-12-25T18:21:25.590261",
     "exception": false,
     "start_time": "2022-12-25T18:21:25.543887",
     "status": "completed"
    },
    "tags": []
   },
   "outputs": [],
   "source": [
    "X_train = df[df[\"date\"].isin(train_index)].drop(['monthly_sales', \"date\"], axis=1)\n",
    "Y_train = df[df[\"date\"].isin(train_index)]['monthly_sales']\n",
    "\n",
    "X_valida = df[df[\"date\"].isin(valida_index)].drop(['monthly_sales', \"date\"], axis=1)\n",
    "Y_valida = df[df[\"date\"].isin(valida_index)]['monthly_sales']\n",
    "\n",
    "X_test = df[df[\"date\"].isin(test_index)].drop(['monthly_sales', \"date\"], axis = 1)\n",
    "Y_test = df[df[\"date\"].isin(test_index)]['monthly_sales']"
   ]
  },
  {
   "cell_type": "code",
   "execution_count": null,
   "id": "e91356c2",
   "metadata": {},
   "outputs": [],
   "source": [
    "X_train.head()"
   ]
  },
  {
   "cell_type": "code",
   "execution_count": null,
   "id": "30d026af",
   "metadata": {},
   "outputs": [],
   "source": [
    "Y_train.head()"
   ]
  },
  {
   "cell_type": "markdown",
   "id": "492ba213",
   "metadata": {
    "papermill": {
     "duration": 0.02514,
     "end_time": "2022-12-25T18:21:25.641240",
     "exception": false,
     "start_time": "2022-12-25T18:21:25.616100",
     "status": "completed"
    },
    "tags": []
   },
   "source": [
    "<a id='model_train'></a>\n",
    "### Model Train\n",
    "[Volver al índice](#index)<br>\n",
    "\n",
    "Entrenamos nuestro modelo de Machine Learning (benchmark)."
   ]
  },
  {
   "cell_type": "code",
   "execution_count": null,
   "id": "d10ec77f",
   "metadata": {
    "execution": {
     "iopub.execute_input": "2022-12-25T18:21:25.694697Z",
     "iopub.status.busy": "2022-12-25T18:21:25.694106Z",
     "iopub.status.idle": "2022-12-25T18:21:26.316245Z",
     "shell.execute_reply": "2022-12-25T18:21:26.315202Z"
    },
    "papermill": {
     "duration": 0.651824,
     "end_time": "2022-12-25T18:21:26.318999",
     "exception": false,
     "start_time": "2022-12-25T18:21:25.667175",
     "status": "completed"
    },
    "scrolled": false,
    "tags": []
   },
   "outputs": [],
   "source": [
    "model = xgb.XGBRegressor(eval_metric = \"rmse\", seed = 175)\n",
    "\n",
    "model.fit(X_train, Y_train,\n",
    "        eval_set = [(X_train, Y_train), (X_valida, Y_valida)],\n",
    "        verbose = True,\n",
    "        early_stopping_rounds=15)"
   ]
  },
  {
   "cell_type": "markdown",
   "id": "6fc3b411",
   "metadata": {
    "papermill": {
     "duration": 0.029213,
     "end_time": "2022-12-25T18:21:26.461185",
     "exception": false,
     "start_time": "2022-12-25T18:21:26.431972",
     "status": "completed"
    },
    "tags": []
   },
   "source": [
    "<a id='model_evaluation'></a>\n",
    "### Model Evaluation (**CORE IDEA**)\n",
    "[Volver al índice](#index)<br>"
   ]
  },
  {
   "cell_type": "code",
   "execution_count": null,
   "id": "29f4bc62",
   "metadata": {
    "execution": {
     "iopub.execute_input": "2022-12-25T18:21:26.522436Z",
     "iopub.status.busy": "2022-12-25T18:21:26.522009Z",
     "iopub.status.idle": "2022-12-25T18:21:26.811595Z",
     "shell.execute_reply": "2022-12-25T18:21:26.810487Z"
    },
    "papermill": {
     "duration": 0.323556,
     "end_time": "2022-12-25T18:21:26.814258",
     "exception": false,
     "start_time": "2022-12-25T18:21:26.490702",
     "status": "completed"
    },
    "tags": []
   },
   "outputs": [],
   "source": [
    "fig, ax = plt.subplots(figsize = (10, 15))\n",
    "xgb.plot_importance(model, importance_type = \"gain\", ax = ax);"
   ]
  },
  {
   "cell_type": "markdown",
   "id": "01ce99a7",
   "metadata": {
    "papermill": {
     "duration": 0.029273,
     "end_time": "2022-12-25T18:21:26.873617",
     "exception": false,
     "start_time": "2022-12-25T18:21:26.844344",
     "status": "completed"
    },
    "tags": []
   },
   "source": [
    "<a id='prediction'></a>\n",
    "### Prediction\n",
    "[Volver al índice](#index)<br>\n",
    "\n",
    "En este apartado vamos a utilizar el modelo entrenado para hacer una predicción y posteriormente enviar el submit a Kaggle."
   ]
  },
  {
   "cell_type": "code",
   "execution_count": null,
   "id": "c2e43f31",
   "metadata": {
    "execution": {
     "iopub.execute_input": "2022-12-25T18:21:27.090848Z",
     "iopub.status.busy": "2022-12-25T18:21:27.090417Z",
     "iopub.status.idle": "2022-12-25T18:21:27.104756Z",
     "shell.execute_reply": "2022-12-25T18:21:27.103864Z"
    },
    "papermill": {
     "duration": 0.04833,
     "end_time": "2022-12-25T18:21:27.107366",
     "exception": false,
     "start_time": "2022-12-25T18:21:27.059036",
     "status": "completed"
    },
    "tags": []
   },
   "outputs": [],
   "source": [
    "if \"monthly_sales\" in X_test.columns:\n",
    "    X_test.drop(\"monthly_sales\", axis = 1, inplace = True)\n",
    "    \n",
    "Y_test_predict = model.predict(X_test)\n",
    "X_test[\"monthly_sales\"] = Y_test_predict"
   ]
  },
  {
   "cell_type": "code",
   "execution_count": null,
   "id": "b4d4963a",
   "metadata": {
    "execution": {
     "iopub.execute_input": "2022-12-25T18:21:27.174612Z",
     "iopub.status.busy": "2022-12-25T18:21:27.173804Z",
     "iopub.status.idle": "2022-12-25T18:21:27.179603Z",
     "shell.execute_reply": "2022-12-25T18:21:27.178795Z"
    },
    "papermill": {
     "duration": 0.039447,
     "end_time": "2022-12-25T18:21:27.181796",
     "exception": false,
     "start_time": "2022-12-25T18:21:27.142349",
     "status": "completed"
    },
    "tags": []
   },
   "outputs": [],
   "source": [
    "X_test.reset_index(inplace = True)"
   ]
  },
  {
   "cell_type": "code",
   "execution_count": null,
   "id": "a5fadb87",
   "metadata": {},
   "outputs": [],
   "source": [
    "Y_train_predict = model.predict(X_train)\n",
    "Y_valida_predict = model.predict(X_valida)\n",
    "\n",
    "rmse_train = np.sqrt(\n",
    "    mean_squared_error(\n",
    "        y_true = Y_train,\n",
    "        y_pred = Y_train_predict\n",
    "    )\n",
    ")\n",
    "\n",
    "rmse_valida = np.sqrt(\n",
    "    mean_squared_error(\n",
    "        y_true = Y_valida,\n",
    "        y_pred = Y_valida_predict\n",
    "    )\n",
    ")\n",
    "\n",
    "rmse_train= str(round(rmse_train, 3)).replace(\".\", \"_\")\n",
    "rmse_valida = str(round(rmse_valida, 3)).replace(\".\", \"_\")"
   ]
  },
  {
   "cell_type": "code",
   "execution_count": null,
   "id": "7d0db9cc",
   "metadata": {},
   "outputs": [],
   "source": [
    "print(f\"Train RMSE: {rmse_train}\")\n",
    "print(f\"Validation RMSE: {rmse_valida}\")"
   ]
  },
  {
   "cell_type": "code",
   "execution_count": null,
   "id": "f9bbf0d0",
   "metadata": {
    "execution": {
     "iopub.execute_input": "2022-12-25T18:21:27.243914Z",
     "iopub.status.busy": "2022-12-25T18:21:27.243464Z",
     "iopub.status.idle": "2022-12-25T18:21:27.253101Z",
     "shell.execute_reply": "2022-12-25T18:21:27.252130Z"
    },
    "papermill": {
     "duration": 0.043266,
     "end_time": "2022-12-25T18:21:27.255412",
     "exception": false,
     "start_time": "2022-12-25T18:21:27.212146",
     "status": "completed"
    },
    "tags": []
   },
   "outputs": [],
   "source": [
    "(\n",
    "    X_test[[\"unique_id\", \"monthly_sales\"]]\n",
    "    .to_csv(f\"submission_train_{rmse_train}_valida_{rmse_valida}.csv\", index = False)\n",
    ")"
   ]
  },
  {
   "cell_type": "markdown",
   "id": "89c24bb3",
   "metadata": {
    "papermill": {
     "duration": 0.029508,
     "end_time": "2022-12-25T18:21:27.314971",
     "exception": false,
     "start_time": "2022-12-25T18:21:27.285463",
     "status": "completed"
    },
    "tags": []
   },
   "source": [
    "<a id='conclusion'></a>\n",
    "### Conclusión\n",
    "[Volver al índice](#index)<br>\n",
    "\n",
    "En este notebook hemos explorado la importancia en Machine Learning de utilizar un modelo benchmark cuando nos enfrentamos por primera vez a un nuevo dataset.\n",
    "\n",
    "Establecer el benchmark nos ayuda a entender cual es el punto de partida.\n",
    "\n",
    "Al entrenar un modelo, tenemos ya un notebook funcional que nos permite entrar en la siguiente loop:\n",
    "\n",
    "1. Hacer un poco más de EDA.\n",
    "1. Construir nuevas variables.\n",
    "1. Probar estas variables en el modelo.\n",
    "1. Guardar el score para ver la mejora o no (Kaggle Submit).\n",
    "1. Volver al punto 1.\n",
    "\n",
    "A continuación dejamos algunas ideas que los alumnos pueden implementar para mejorar el benchmark:\n",
    "\n",
    "1. Probad otras combinaciones de variables.\n",
    "1. Darle más profundidad a los lags/shifts.\n",
    "1. Implementar medias móviles (ojo variables autoexplicativas).\n",
    "1. Utilizar otras columnas en vez de MONTHLY_SALES para construir las variables.\n",
    "1. Probar otros algoritmos.\n",
    "1. Tunnear los hiperparametros del modelo.\n",
    "\n",
    "### Happy Kaggling :)"
   ]
  },
  {
   "cell_type": "markdown",
   "id": "e5de64f5",
   "metadata": {
    "papermill": {
     "duration": 0.029443,
     "end_time": "2022-12-25T18:21:27.373965",
     "exception": false,
     "start_time": "2022-12-25T18:21:27.344522",
     "status": "completed"
    },
    "tags": []
   },
   "source": [
    "<a id='referencias'></a>\n",
    "### Referencias y lecturas recomendables\n",
    "[Volver al índice](#index)<br>\n",
    "\n",
    "A continuación dejamos algunos links útiles para profundizar en algunos de los conceptos que hemos visto en el notebook:"
   ]
  },
  {
   "cell_type": "markdown",
   "id": "73d6a2d6",
   "metadata": {
    "execution": {
     "iopub.execute_input": "2022-12-25T18:07:20.669652Z",
     "iopub.status.busy": "2022-12-25T18:07:20.669260Z",
     "iopub.status.idle": "2022-12-25T18:07:20.678128Z",
     "shell.execute_reply": "2022-12-25T18:07:20.675814Z",
     "shell.execute_reply.started": "2022-12-25T18:07:20.669622Z"
    },
    "papermill": {
     "duration": 0.029289,
     "end_time": "2022-12-25T18:21:27.432895",
     "exception": false,
     "start_time": "2022-12-25T18:21:27.403606",
     "status": "completed"
    },
    "tags": []
   },
   "source": [
    "[The importance of Benchmarking](https://blog.bigml.com/2020/03/20/machine-learning-benchmarking-youre-doing-it-wrong/)\n",
    "\n",
    "[Tree Based Models and Extrapolation (MUY RECOMENDABLE)](https://shanminlin.medium.com/how-to-help-tree-based-models-extrapolate-7954287b1219)\n",
    "\n",
    "[XGBoost](https://xgboost.readthedocs.io/en/stable/)"
   ]
  },
  {
   "cell_type": "code",
   "execution_count": null,
   "id": "c8c0db6e",
   "metadata": {
    "papermill": {
     "duration": 0.029463,
     "end_time": "2022-12-25T18:21:27.491994",
     "exception": false,
     "start_time": "2022-12-25T18:21:27.462531",
     "status": "completed"
    },
    "tags": []
   },
   "outputs": [],
   "source": []
  }
 ],
 "metadata": {
  "kernelspec": {
   "display_name": "Python 3",
   "language": "python",
   "name": "python3"
  },
  "language_info": {
   "codemirror_mode": {
    "name": "ipython",
    "version": 3
   },
   "file_extension": ".py",
   "mimetype": "text/x-python",
   "name": "python",
   "nbconvert_exporter": "python",
   "pygments_lexer": "ipython3",
   "version": "3.12.1"
  },
  "papermill": {
   "default_parameters": {},
   "duration": 23.57855,
   "end_time": "2022-12-25T18:21:28.344030",
   "environment_variables": {},
   "exception": null,
   "input_path": "__notebook__.ipynb",
   "output_path": "__notebook__.ipynb",
   "parameters": {},
   "start_time": "2022-12-25T18:21:04.765480",
   "version": "2.3.4"
  }
 },
 "nbformat": 4,
 "nbformat_minor": 5
}
